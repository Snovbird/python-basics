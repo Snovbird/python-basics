{
 "cells": [
  {
   "cell_type": "markdown",
   "id": "4acfcc33",
   "metadata": {},
   "source": [
    "# One line conditions\n",
    "\n",
    "Can be used for strings and many others"
   ]
  },
  {
   "cell_type": "code",
   "execution_count": 1,
   "id": "7af09d18",
   "metadata": {},
   "outputs": [
    {
     "data": {
      "text/plain": [
       "'even'"
      ]
     },
     "execution_count": 1,
     "metadata": {},
     "output_type": "execute_result"
    }
   ],
   "source": [
    "a = 2\n",
    "\n",
    "answer = \"even\" if a % 2 == 0 else \"odd\"\n",
    "\n",
    "answer"
   ]
  },
  {
   "cell_type": "code",
   "execution_count": null,
   "id": "2dee07e6",
   "metadata": {},
   "outputs": [
    {
     "name": "stdout",
     "output_type": "stream",
     "text": [
      "[0, 0, 3, 3, 3, 6, 6, 6, 9, 9]\n"
     ]
    }
   ],
   "source": [
    "# provides only multiples of 3 and adjusts by adding or subtracting one depending on if the adjusted number would be a multiple of 3\n",
    "def add_one(number):\n",
    "    return number + 1\n",
    "def subtract_one(number):\n",
    "    return number - 1\n",
    "\n",
    "storage = []\n",
    "for i in range(10):\n",
    "    storage.append(\n",
    "        i if i % 3 == 0 else subtract_one(i) if subtract_one(i) % 3 == 0 else add_one(i) # one line condition\n",
    "    )\n",
    "print(storage)\n"
   ]
  },
  {
   "cell_type": "code",
   "execution_count": null,
   "id": "34a9fad1",
   "metadata": {},
   "outputs": [],
   "source": [
    "# Choose processing method based on file size\n",
    "processor = process_large_file if os.path.getsize(filepath) > 100_000_000 else process_small_file\n",
    "\n",
    "# Select compression based on file type\n",
    "compress_cmd = \"gzip\" if filepath.endswith(('.txt', '.log', '.csv')) else \"zip\" if filepath.endswith('.json') else None\n",
    "\n",
    "# Determine backup strategy based on file age\n",
    "backup_type = \"incremental\" if (time.time() - os.path.getmtime(filepath)) < 86400 else \"full\"\n"
   ]
  },
  {
   "cell_type": "code",
   "execution_count": null,
   "id": "b168d941",
   "metadata": {},
   "outputs": [],
   "source": [
    "import os\n",
    "\n",
    "# Lazy evaluation for expensive operations\n",
    "file_info = {\n",
    "    f: {\n",
    "        'size': os.path.getsize(f),\n",
    "        'hash': calculate_hash(f) if os.path.getsize(f) < hash_threshold else None,\n",
    "        'compressed_size': get_compressed_size(f) if should_check_compression(f) else None\n",
    "    }\n",
    "    for f in files\n",
    "    if os.path.isfile(f)\n",
    "}\n",
    "\n",
    "# Conditional parallel processing\n",
    "process_func = process_parallel if len(files) > parallel_threshold and cpu_count > 1 else process_sequential\n"
   ]
  }
 ],
 "metadata": {
  "kernelspec": {
   "display_name": "Python 3",
   "language": "python",
   "name": "python3"
  },
  "language_info": {
   "codemirror_mode": {
    "name": "ipython",
    "version": 3
   },
   "file_extension": ".py",
   "mimetype": "text/x-python",
   "name": "python",
   "nbconvert_exporter": "python",
   "pygments_lexer": "ipython3",
   "version": "3.13.3"
  }
 },
 "nbformat": 4,
 "nbformat_minor": 5
}
