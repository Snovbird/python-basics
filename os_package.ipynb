{
 "cells": [
  {
   "cell_type": "code",
   "execution_count": 7,
   "id": "ad7526e9",
   "metadata": {},
   "outputs": [
    {
     "name": "stdout",
     "output_type": "stream",
     "text": [
      "file created at C:\\Users\\matts\\Downloads\n"
     ]
    }
   ],
   "source": [
    "import os\n",
    "\n",
    "downloads_path = os.path.join(\n",
    "    os.path.expanduser(\"~\"), \"Downloads\" # expanduser can also be used to expand ~ to the current user's home directory\n",
    "    )\n",
    "\n",
    "test_file_path = os.path.join(downloads_path, \"test\")\n",
    "\n",
    "with open(test_file_path, \"w\") as file:\n",
    "    file.write(\"Hello, World!\")\n",
    "\n",
    "print(f\"file created at {test_path}\")"
   ]
  },
  {
   "cell_type": "code",
   "execution_count": 10,
   "id": "1342af50",
   "metadata": {},
   "outputs": [
    {
     "name": "stdout",
     "output_type": "stream",
     "text": [
      "The file is 13 bytes\n"
     ]
    }
   ],
   "source": [
    "size_in_bytes = os.path.getsize(test_file_path)\n",
    "\n",
    "print(f\"The file is {size_in_bytes} bytes\")"
   ]
  },
  {
   "cell_type": "code",
   "execution_count": 13,
   "id": "9868e398",
   "metadata": {},
   "outputs": [
    {
     "data": {
      "text/plain": [
       "'385,150 bytes'"
      ]
     },
     "execution_count": 13,
     "metadata": {},
     "output_type": "execute_result"
    }
   ],
   "source": [
    "f'{os.path.getsize(r\"C:\\Users\\matts\\Downloads\\give-this-album-a-name-v0-j7h8y7iq0qbf1.webp\"):,} bytes'"
   ]
  }
 ],
 "metadata": {
  "kernelspec": {
   "display_name": "Python 3",
   "language": "python",
   "name": "python3"
  },
  "language_info": {
   "codemirror_mode": {
    "name": "ipython",
    "version": 3
   },
   "file_extension": ".py",
   "mimetype": "text/x-python",
   "name": "python",
   "nbconvert_exporter": "python",
   "pygments_lexer": "ipython3",
   "version": "3.13.3"
  }
 },
 "nbformat": 4,
 "nbformat_minor": 5
}
