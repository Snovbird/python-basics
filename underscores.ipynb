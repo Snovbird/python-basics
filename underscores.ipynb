{
 "cells": [
  {
   "cell_type": "markdown",
   "id": "a1becc89",
   "metadata": {},
   "source": [
    "# Capture values in-between\n",
    "\n",
    "actually it's mostly the star that does this\n",
    "\n",
    "`*_`"
   ]
  },
  {
   "cell_type": "code",
   "execution_count": 4,
   "id": "bb8c416f",
   "metadata": {},
   "outputs": [
    {
     "name": "stdout",
     "output_type": "stream",
     "text": [
      "first=0\n",
      "_=[1, 2, 3, 4]\n",
      "last=5\n"
     ]
    }
   ],
   "source": [
    "numbersList = [0,1,2,3,4,5]\n",
    "\n",
    "first, *_, last = numbersList\n",
    "\n",
    "\n",
    "print(f\"{first=}\")\n",
    "print(f\"{_=}\")\n",
    "print(f\"{last=}\")"
   ]
  }
 ],
 "metadata": {
  "kernelspec": {
   "display_name": "Python 3",
   "language": "python",
   "name": "python3"
  },
  "language_info": {
   "codemirror_mode": {
    "name": "ipython",
    "version": 3
   },
   "file_extension": ".py",
   "mimetype": "text/x-python",
   "name": "python",
   "nbconvert_exporter": "python",
   "pygments_lexer": "ipython3",
   "version": "3.13.3"
  }
 },
 "nbformat": 4,
 "nbformat_minor": 5
}
