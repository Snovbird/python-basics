{
 "cells": [
  {
   "cell_type": "markdown",
   "id": "0345ce44",
   "metadata": {},
   "source": [
    "# Access a json's content\n",
    "\n",
    "`json.load()`"
   ]
  },
  {
   "cell_type": "code",
   "execution_count": 3,
   "id": "0a904950",
   "metadata": {},
   "outputs": [
    {
     "name": "stdout",
     "output_type": "stream",
     "text": [
      "{}\n"
     ]
    }
   ],
   "source": [
    "import json\n",
    "\n",
    "with open('test.json','r') as data:\n",
    "    contents = json.load(data)\n",
    "\n",
    "print(contents)"
   ]
  },
  {
   "cell_type": "markdown",
   "id": "f1d5f01f",
   "metadata": {},
   "source": [
    "# Write to the json\n",
    "\n",
    "you need to read first if you want to save previous data\n",
    "\n",
    "`json.dump(dictionnary, json)`"
   ]
  },
  {
   "cell_type": "code",
   "execution_count": 4,
   "id": "a51398e3",
   "metadata": {},
   "outputs": [],
   "source": [
    "import json\n",
    "\n",
    "with open('test.json','w') as data:\n",
    "    json.dump({'name': 'Alice', 'age': 30, 'city': 'New York'}, data)"
   ]
  },
  {
   "cell_type": "code",
   "execution_count": null,
   "id": "b0917d2c",
   "metadata": {},
   "outputs": [],
   "source": [
    "# pretty formatting\n",
    "\n",
    "import json\n",
    "\n",
    "with open('test.json','w') as data:\n",
    "    json.dump({'name': 'Alice', 'age': 30, 'city': 'New York'}, data,indent=4)"
   ]
  }
 ],
 "metadata": {
  "kernelspec": {
   "display_name": "Python 3",
   "language": "python",
   "name": "python3"
  },
  "language_info": {
   "codemirror_mode": {
    "name": "ipython",
    "version": 3
   },
   "file_extension": ".py",
   "mimetype": "text/x-python",
   "name": "python",
   "nbconvert_exporter": "python",
   "pygments_lexer": "ipython3",
   "version": "3.13.3"
  }
 },
 "nbformat": 4,
 "nbformat_minor": 5
}
