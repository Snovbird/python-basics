{
 "cells": [
  {
   "cell_type": "markdown",
   "id": "dc805250",
   "metadata": {},
   "source": [
    "# Use \\_\\_file\\_\\_ variable to find the script directory"
   ]
  },
  {
   "cell_type": "code",
   "execution_count": null,
   "id": "b596e92c",
   "metadata": {},
   "outputs": [],
   "source": [
    "import os\n",
    "script_dir = os.path.dirname(__file__)\n",
    "print(script_dir)  # Directory containing the script\n"
   ]
  }
 ],
 "metadata": {
  "language_info": {
   "name": "python"
  }
 },
 "nbformat": 4,
 "nbformat_minor": 5
}
