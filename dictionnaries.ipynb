{
 "cells": [
  {
   "cell_type": "markdown",
   "id": "6b05e91f",
   "metadata": {},
   "source": [
    "# Getting values using keys \n",
    "`.get()`"
   ]
  },
  {
   "cell_type": "code",
   "execution_count": null,
   "id": "30bebdc9",
   "metadata": {},
   "outputs": [
    {
     "name": "stdout",
     "output_type": "stream",
     "text": [
      "Alice\n",
      "Alice\n",
      "None\n"
     ]
    }
   ],
   "source": [
    "my_dict = {'name': 'Alice', 'age': 30}\n",
    "\n",
    "print(my_dict['name']) # standard\n",
    "\n",
    "a = my_dict.get('name') # if exists = same as indexing\n",
    "print(a)\n",
    "b = my_dict.get('gender') # DIFFERENCE is if DNE => returns None instead of error\n",
    "print(b)"
   ]
  },
  {
   "cell_type": "markdown",
   "id": "cab3d13b",
   "metadata": {},
   "source": [
    "# Add new key-value pair\n",
    "`.update()`"
   ]
  },
  {
   "cell_type": "code",
   "execution_count": 6,
   "id": "f933cd9d",
   "metadata": {},
   "outputs": [
    {
     "name": "stdout",
     "output_type": "stream",
     "text": [
      "{'name': 'Alice', 'age': 30, 'newvalue': 999999}\n"
     ]
    }
   ],
   "source": [
    "my_dict = {'name': 'Alice', 'age': 30}\n",
    "\n",
    "my_dict['newvalue'] = 999999\n",
    "\n",
    "print(my_dict)"
   ]
  },
  {
   "cell_type": "code",
   "execution_count": null,
   "id": "77dac87a",
   "metadata": {},
   "outputs": [
    {
     "data": {
      "text/plain": [
       "{'name': 'Alice', 'age': 30, 'NewValue': 30, 'therecanbeinfinitevalues': 9999}"
      ]
     },
     "execution_count": 9,
     "metadata": {},
     "output_type": "execute_result"
    }
   ],
   "source": [
    "my_dict = {'name': 'Alice', 'age': 30}\n",
    "\n",
    "my_dict.update( # NO ASSIGNATION NEEDED\n",
    "    {'NewValue':30, 'therecanbeinfinitevalues':9999} # input needs to be a dictionnary\n",
    ")\n",
    "\n",
    "my_dict"
   ]
  },
  {
   "cell_type": "markdown",
   "id": "f82d0c4b",
   "metadata": {},
   "source": [
    "# looping through keys and values \n",
    "`.items()`"
   ]
  },
  {
   "cell_type": "code",
   "execution_count": 11,
   "id": "3dd0f8cf",
   "metadata": {},
   "outputs": [
    {
     "name": "stdout",
     "output_type": "stream",
     "text": [
      "a: 1\n",
      "b: 2\n",
      "c: 3\n"
     ]
    }
   ],
   "source": [
    "my_dict = {'a': 1, 'b': 2, 'c': 3}\n",
    "\n",
    "for key, value in my_dict.items(): \n",
    "    print(f\"{key}: {value}\")  # Prints a: 1, b: 2, c: 3\n"
   ]
  },
  {
   "cell_type": "markdown",
   "id": "b05ebf0d",
   "metadata": {},
   "source": [
    "# Dictionnary comprehension \n",
    "`.items()`"
   ]
  },
  {
   "cell_type": "code",
   "execution_count": null,
   "id": "ca4d11ce",
   "metadata": {},
   "outputs": [
    {
     "data": {
      "text/plain": [
       "{'apples0': 0,\n",
       " 'apples1': 1,\n",
       " 'apples2': 4,\n",
       " 'apples3': 9,\n",
       " 'apples4': 16,\n",
       " 'apples5': 25,\n",
       " 'apples6': 36,\n",
       " 'apples7': 49,\n",
       " 'apples8': 64,\n",
       " 'apples9': 81}"
      ]
     },
     "execution_count": 1,
     "metadata": {},
     "output_type": "execute_result"
    }
   ],
   "source": [
    "{f\"apples{x}\" : x**2 for x in range(10)}"
   ]
  },
  {
   "cell_type": "markdown",
   "id": "a6e2e3b5",
   "metadata": {},
   "source": [
    "# BONUS"
   ]
  },
  {
   "cell_type": "code",
   "execution_count": null,
   "id": "c5345686",
   "metadata": {},
   "outputs": [
    {
     "name": "stdout",
     "output_type": "stream",
     "text": [
      "{'apricots': 12}\n"
     ]
    }
   ],
   "source": [
    "# dictionnaries can be accessed using the exact key name\n",
    "\n",
    "my_dict = {\"apples\":1,\"apricots\":12}\n",
    "\n",
    "del my_dict[\"apples\"]\n",
    "\n",
    "print(my_dict)\n"
   ]
  },
  {
   "cell_type": "code",
   "execution_count": null,
   "id": "5532b986",
   "metadata": {},
   "outputs": [
    {
     "name": "stdout",
     "output_type": "stream",
     "text": [
      "('c', 3)\n",
      "{'a': 1, 'b': 2}\n",
      "\n",
      "after2ndpop\n",
      " {'a': 1}\n"
     ]
    }
   ],
   "source": [
    "my_dict = {'a': 1, 'b': 2, 'c': 3}\n",
    "\n",
    "name = my_dict.popitem() # how to access last item -1\n",
    "\n",
    "print(name)\n",
    "print(my_dict)\n",
    "\n",
    "my_dict.popitem()\n",
    "\n",
    "print(\"\\nafter2ndpop\\n\",my_dict)"
   ]
  }
 ],
 "metadata": {
  "kernelspec": {
   "display_name": "Python 3",
   "language": "python",
   "name": "python3"
  },
  "language_info": {
   "codemirror_mode": {
    "name": "ipython",
    "version": 3
   },
   "file_extension": ".py",
   "mimetype": "text/x-python",
   "name": "python",
   "nbconvert_exporter": "python",
   "pygments_lexer": "ipython3",
   "version": "3.13.3"
  }
 },
 "nbformat": 4,
 "nbformat_minor": 5
}
