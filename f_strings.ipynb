{
 "cells": [
  {
   "cell_type": "code",
   "execution_count": 1,
   "id": "ab4997dc",
   "metadata": {},
   "outputs": [
    {
     "data": {
      "text/plain": [
       "'1,293,042,314'"
      ]
     },
     "execution_count": 1,
     "metadata": {},
     "output_type": "execute_result"
    }
   ],
   "source": [
    "# 3-digits separator for integers\n",
    "\n",
    "huge_number = 1293042314\n",
    "\n",
    "f\"{huge_number:,}\""
   ]
  },
  {
   "cell_type": "code",
   "execution_count": 6,
   "id": "0af0b9e9",
   "metadata": {},
   "outputs": [
    {
     "data": {
      "text/plain": [
       "'**title***'"
      ]
     },
     "execution_count": 6,
     "metadata": {},
     "output_type": "execute_result"
    }
   ],
   "source": [
    "f\"{'title':*^10}\""
   ]
  },
  {
   "cell_type": "code",
   "execution_count": 7,
   "id": "8ec32c16",
   "metadata": {},
   "outputs": [
    {
     "data": {
      "text/plain": [
       "'            title             '"
      ]
     },
     "execution_count": 7,
     "metadata": {},
     "output_type": "execute_result"
    }
   ],
   "source": [
    "f\"{'title':^30}\"\n"
   ]
  },
  {
   "cell_type": "code",
   "execution_count": 9,
   "id": "4b9b49f9",
   "metadata": {},
   "outputs": [
    {
     "data": {
      "text/plain": [
       "'left******'"
      ]
     },
     "execution_count": 9,
     "metadata": {},
     "output_type": "execute_result"
    }
   ],
   "source": [
    "f\"{'left':*<10}\""
   ]
  },
  {
   "cell_type": "code",
   "execution_count": 11,
   "id": "96c6aa1f",
   "metadata": {},
   "outputs": [
    {
     "name": "stdout",
     "output_type": "stream",
     "text": [
      "3.14 (2 decimals)\n",
      "3.1416 (4 decimals)\n",
      "3 (3 decimals)\n"
     ]
    }
   ],
   "source": [
    "pi = 3.14159265359\n",
    "print(f\"{pi:.2f} (2 decimals)\")        # 3.14\n",
    "print(f\"{pi:.4f} (4 decimals)\")        # 3.1416\n",
    "print(f\"{pi:.0f} (3 decimals)\")        # 3\n"
   ]
  },
  {
   "cell_type": "code",
   "execution_count": 12,
   "id": "be50300b",
   "metadata": {},
   "outputs": [
    {
     "name": "stdout",
     "output_type": "stream",
     "text": [
      "hello     \n",
      "     hello\n",
      "  hello   \n"
     ]
    }
   ],
   "source": [
    "text = \"hello\"\n",
    "print(f\"{text:<10}\")      # \"hello     \" (left-align)\n",
    "print(f\"{text:>10}\")      # \"     hello\" (right-align)\n",
    "print(f\"{text:^10}\")      # \"  hello   \" (center-align)\n"
   ]
  },
  {
   "cell_type": "code",
   "execution_count": 13,
   "id": "e698ad7e",
   "metadata": {},
   "outputs": [
    {
     "name": "stdout",
     "output_type": "stream",
     "text": [
      "*******TITLE********\n",
      "TITLE----------\n",
      ".......TITLE\n"
     ]
    }
   ],
   "source": [
    "text = \"TITLE\"\n",
    "print(f\"{text:*^20}\")     # \"*******TITLE********\"\n",
    "print(f\"{text:-<15}\")     # \"TITLE----------\"\n",
    "print(f\"{text:.>12}\")     # \".......TITLE\"\n"
   ]
  },
  {
   "cell_type": "code",
   "execution_count": 15,
   "id": "8652b85f",
   "metadata": {},
   "outputs": [
    {
     "name": "stdout",
     "output_type": "stream",
     "text": [
      "00042\n",
      "00042.00\n"
     ]
    }
   ],
   "source": [
    "# numbers padding; zfill and convert to string beforehand is preferable\n",
    "number = 42\n",
    "print(f\"{number:05d}\")    # \"00042\"\n",
    "print(f\"{number:08.2f}\")  # \"00042.00\"\n"
   ]
  },
  {
   "cell_type": "code",
   "execution_count": null,
   "id": "a6cf24c7",
   "metadata": {},
   "outputs": [],
   "source": []
  }
 ],
 "metadata": {
  "kernelspec": {
   "display_name": "Python 3",
   "language": "python",
   "name": "python3"
  },
  "language_info": {
   "codemirror_mode": {
    "name": "ipython",
    "version": 3
   },
   "file_extension": ".py",
   "mimetype": "text/x-python",
   "name": "python",
   "nbconvert_exporter": "python",
   "pygments_lexer": "ipython3",
   "version": "3.13.3"
  }
 },
 "nbformat": 4,
 "nbformat_minor": 5
}
